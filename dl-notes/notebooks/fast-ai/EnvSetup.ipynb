{
 "cells": [
  {
   "cell_type": "markdown",
   "id": "9c6a52a7-314c-4df7-b2a9-99e77fb19bbe",
   "metadata": {},
   "source": [
    "# Setup proxy\n",
    "os.environ['http_proxy'] = \"http://127.0.0.1:33210\"   \n",
    "os.environ['https_proxy'] = \"http://127.0.0.1:33210\""
   ]
  },
  {
   "cell_type": "markdown",
   "id": "b1dfdf1a-1162-4da2-99e5-b7a4af714bb5",
   "metadata": {},
   "source": [
    "# Install a pip package in the current Jupyter kernel\n",
    "```python\n",
    "import sys\n",
    "!{sys.executable} -m pip install packageName\n",
    "```"
   ]
  },
  {
   "cell_type": "code",
   "execution_count": null,
   "id": "edba79da-459b-4d1b-b7eb-5722eb7d312b",
   "metadata": {},
   "outputs": [],
   "source": []
  }
 ],
 "metadata": {
  "kernelspec": {
   "display_name": "Python 3 (ipykernel)",
   "language": "python",
   "name": "python3"
  },
  "language_info": {
   "codemirror_mode": {
    "name": "ipython",
    "version": 3
   },
   "file_extension": ".py",
   "mimetype": "text/x-python",
   "name": "python",
   "nbconvert_exporter": "python",
   "pygments_lexer": "ipython3",
   "version": "3.11.4"
  }
 },
 "nbformat": 4,
 "nbformat_minor": 5
}
